{
 "cells": [
  {
   "cell_type": "code",
   "execution_count": 1,
   "id": "5cdc9207",
   "metadata": {},
   "outputs": [
    {
     "name": "stdout",
     "output_type": "stream",
     "text": [
      "Visa\n",
      "MasterCard\n",
      "Discover\n",
      "American Express\n"
     ]
    }
   ],
   "source": [
    "def identificar_bandeira(numero_cartao: str) -> str:\n",
    "    \n",
    "# Identifica a bandeira do cartão de crédito com base no número inicial.\n",
    "    \n",
    "    numero = numero_cartao.replace(\" \", \"\").replace(\"-\", \"\")\n",
    "\n",
    "    if numero.startswith(\"4\"):\n",
    "        return \"Visa\"\n",
    "    elif (numero[:2] in [str(i) for i in range(51, 56)] or\n",
    "          2221 <= int(numero[:4]) <= 2720):\n",
    "        return \"MasterCard\"\n",
    "    elif (numero.startswith(\"4011\") or\n",
    "          numero.startswith(\"4312\") or\n",
    "          numero.startswith(\"4389\")):\n",
    "        return \"Elo\"\n",
    "    elif numero.startswith(\"34\") or numero.startswith(\"37\"):\n",
    "        return \"American Express\"\n",
    "    elif (numero.startswith(\"6011\") or\n",
    "          numero.startswith(\"65\") or\n",
    "          644 <= int(numero[:3]) <= 649):\n",
    "        return \"Discover\"\n",
    "    elif numero.startswith(\"6062\"):\n",
    "        return \"Hipercard\"\n",
    "    else:\n",
    "        return \"Bandeira desconhecida\"\n",
    "\n",
    "identificar_bandeira(\"4111 1111 1111 1111\")\n",
    "\n",
    "# Testando com diferentes números de cartão\n",
    "\n",
    "print(identificar_bandeira(\"4539 1487 1517 1715\"))\n",
    "\n",
    "print(identificar_bandeira(\"5105 1051 0510 5100\"))\n",
    "\n",
    "print(identificar_bandeira(\"6011 0451 2241 2900\"))\n",
    "\n",
    "print(identificar_bandeira(\"3783 003526 43660\"))\n"
   ]
  }
 ],
 "metadata": {
  "kernelspec": {
   "display_name": "Python 3",
   "language": "python",
   "name": "python3"
  },
  "language_info": {
   "codemirror_mode": {
    "name": "ipython",
    "version": 3
   },
   "file_extension": ".py",
   "mimetype": "text/x-python",
   "name": "python",
   "nbconvert_exporter": "python",
   "pygments_lexer": "ipython3",
   "version": "3.13.2"
  }
 },
 "nbformat": 4,
 "nbformat_minor": 5
}
